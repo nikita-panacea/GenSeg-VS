{
 "cells": [
  {
   "cell_type": "code",
   "execution_count": 3,
   "id": "22fb5c54",
   "metadata": {},
   "outputs": [
    {
     "name": "stdout",
     "output_type": "stream",
     "text": [
      "Requirement already satisfied: SimpleITK in c:\\users\\acer\\anaconda3\\envs\\genseg\\lib\\site-packages (2.5.2)\n"
     ]
    }
   ],
   "source": [
    "!pip install SimpleITK"
   ]
  },
  {
   "cell_type": "code",
   "execution_count": 21,
   "id": "58428710",
   "metadata": {},
   "outputs": [],
   "source": [
    "img_path= r\"D:\\vestibularSchwannoma\\AIIMsInfDataset\\ImageNiftis\\GKPFX2671\\vs_gk_0000.nii.gz\"\n",
    "seg_path= r\"D:\\vestibularSchwannoma\\AIIMsInfDataset\\Outputs\\GKPFX2671\\mask.nii.gz\"\n",
    "\n",
    "import nibabel as nib\n",
    "img= nib.load(img_path).get_fdata()\n",
    "seg= nib.load(seg_path).get_fdata()"
   ]
  },
  {
   "cell_type": "code",
   "execution_count": 22,
   "id": "1d0108d1",
   "metadata": {},
   "outputs": [],
   "source": [
    "import SimpleITK as sitk\n",
    "\n",
    "sitk_image = sitk.GetImageFromArray(img)  \n",
    "sitk_mask  = sitk.GetImageFromArray(seg)"
   ]
  },
  {
   "cell_type": "code",
   "execution_count": 23,
   "id": "c40e715d",
   "metadata": {},
   "outputs": [
    {
     "name": "stderr",
     "output_type": "stream",
     "text": [
      "GLCM is symmetrical, therefore Sum Average = 2 * Joint Average, only 1 needs to be calculated\n"
     ]
    },
    {
     "data": {
      "text/plain": [
       "{'original_shape_Maximum2DDiameterRow': 61.09828148156051,\n",
       " 'original_shape_SurfaceArea': 4257.442431968991,\n",
       " 'original_glszm_LargeAreaHighGrayLevelEmphasis': 519659.133611691,\n",
       " 'original_shape_SurfaceVolumeRatio': 0.3641692863613079,\n",
       " 'original_shape_MajorAxisLength': 55.63102603003085,\n",
       " 'original_shape_Maximum3DDiameter': 67.21606950722423}"
      ]
     },
     "execution_count": 23,
     "metadata": {},
     "output_type": "execute_result"
    }
   ],
   "source": [
    "from radiomics import featureextractor\n",
    "\n",
    "extractor = featureextractor.RadiomicsFeatureExtractor()\n",
    "selected_feature_names = ['original_shape_Maximum2DDiameterRow','original_shape_SurfaceArea','original_glszm_LargeAreaHighGrayLevelEmphasis','original_shape_SurfaceVolumeRatio','original_shape_MajorAxisLength','original_shape_Maximum3DDiameter']\n",
    "\n",
    "# Directly pass the SimpleITK images\n",
    "features = extractor.execute(sitk_image, sitk_mask, label=1)\n",
    "\n",
    "extracted_features2 = {\n",
    "    key: float(features[key]) if hasattr(features[key], \"item\") else features[key]\n",
    "    for key in selected_feature_names\n",
    "    if key in features\n",
    "}\n",
    "\n",
    "extracted_features2"
   ]
  },
  {
   "cell_type": "code",
   "execution_count": 24,
   "id": "035ac3fb",
   "metadata": {},
   "outputs": [
    {
     "data": {
      "text/plain": [
       "({'original_shape_Maximum2DDiameterRow': 57.245087125446844,\n",
       "  'original_shape_SurfaceArea': 4795.074468531482,\n",
       "  'original_glszm_LargeAreaHighGrayLevelEmphasis': 3242937.6816109424,\n",
       "  'original_shape_SurfaceVolumeRatio': 0.26990934499628394,\n",
       "  'original_shape_MajorAxisLength': 51.890289371136184,\n",
       "  'original_shape_Maximum3DDiameter': 57.253820833198546},\n",
       " {'original_shape_Maximum2DDiameterRow': 61.09828148156051,\n",
       "  'original_shape_SurfaceArea': 4257.442431968991,\n",
       "  'original_glszm_LargeAreaHighGrayLevelEmphasis': 519659.133611691,\n",
       "  'original_shape_SurfaceVolumeRatio': 0.3641692863613079,\n",
       "  'original_shape_MajorAxisLength': 55.63102603003085,\n",
       "  'original_shape_Maximum3DDiameter': 67.21606950722423})"
      ]
     },
     "execution_count": 24,
     "metadata": {},
     "output_type": "execute_result"
    }
   ],
   "source": [
    "extracted_features1, extracted_features2"
   ]
  },
  {
   "cell_type": "code",
   "execution_count": 42,
   "id": "c5acf8fd",
   "metadata": {},
   "outputs": [
    {
     "name": "stdout",
     "output_type": "stream",
     "text": [
      "61.09828148156051 4.128718315151695\n",
      "4257.442431968991 8.356658746107465\n",
      "519659.133611691 13.160930287666785\n",
      "0.3641692863613079 0.3105456619557952\n",
      "55.63102603003085 4.036556998097391\n",
      "67.21606950722423 4.222680160367696\n"
     ]
    }
   ],
   "source": [
    "import numpy as np\n",
    "val = np.log1p(extracted_features2['original_shape_Maximum2DDiameterRow']) \n",
    "print(extracted_features2['original_shape_Maximum2DDiameterRow'], val)\n",
    "val = np.log1p(extracted_features2['original_shape_SurfaceArea']) \n",
    "print(extracted_features2['original_shape_SurfaceArea'], val)\n",
    "val = np.log1p(extracted_features2['original_glszm_LargeAreaHighGrayLevelEmphasis']) \n",
    "print(extracted_features2['original_glszm_LargeAreaHighGrayLevelEmphasis'], val)\n",
    "val = np.log1p(extracted_features2['original_shape_SurfaceVolumeRatio']) \n",
    "print(extracted_features2['original_shape_SurfaceVolumeRatio'], val)\n",
    "val = np.log1p(extracted_features2['original_shape_MajorAxisLength']) \n",
    "print(extracted_features2['original_shape_MajorAxisLength'], val)\n",
    "val = np.log1p(extracted_features2['original_shape_Maximum3DDiameter']) \n",
    "print(extracted_features2['original_shape_Maximum3DDiameter'], val)"
   ]
  },
  {
   "cell_type": "code",
   "execution_count": 44,
   "id": "c0cd9091",
   "metadata": {},
   "outputs": [],
   "source": [
    "def radiomics_features(img_tensor, seg_tensor):\n",
    "    import SimpleITK as sitk\n",
    "    from radiomics import featureextractor\n",
    "\n",
    "    img_tensor= img_tensor.squeeze().squeeze()\n",
    "    seg_tensor= seg_tensor.squeeze().squeeze()\n",
    "\n",
    "    sitk_image = sitk.GetImageFromArray(img_tensor.numpy())  \n",
    "    sitk_mask  = sitk.GetImageFromArray(seg_tensor.numpy())\n",
    "\n",
    "    extractor = featureextractor.RadiomicsFeatureExtractor()\n",
    "    selected_feature_names = ['original_shape_Maximum2DDiameterRow','original_shape_SurfaceArea','original_glszm_LargeAreaHighGrayLevelEmphasis','original_shape_SurfaceVolumeRatio','original_shape_MajorAxisLength','original_shape_Maximum3DDiameter']\n",
    "\n",
    "    # Directly pass the SimpleITK images\n",
    "    features = extractor.execute(sitk_image, sitk_mask, label=1)\n",
    "\n",
    "    extracted_features = {\n",
    "        key: float(np.log1p(features[key])) if hasattr(features[key], \"item\") else np.log1p(features[key])\n",
    "        for key in selected_feature_names\n",
    "        if key in features\n",
    "    }\n",
    "\n",
    "    return extracted_features"
   ]
  },
  {
   "cell_type": "code",
   "execution_count": 48,
   "id": "a31c3aeb",
   "metadata": {},
   "outputs": [
    {
     "name": "stderr",
     "output_type": "stream",
     "text": [
      "GLCM is symmetrical, therefore Sum Average = 2 * Joint Average, only 1 needs to be calculated\n"
     ]
    }
   ],
   "source": [
    "img_path= r\"D:\\vestibularSchwannoma\\AIIMsInfDataset\\ImageNiftis\\GKPFX2671\\vs_gk_0000.nii.gz\"\n",
    "seg_path= r\"D:\\vestibularSchwannoma\\AIIMsInfDataset\\Outputs\\GKPFX2671\\mask.nii.gz\"\n",
    "\n",
    "import nibabel as nib\n",
    "img= nib.load(img_path).get_fdata()\n",
    "seg= nib.load(seg_path).get_fdata()\n",
    "\n",
    "import torch\n",
    "img_tensor= torch.from_numpy(img)\n",
    "seg_tensor= torch.from_numpy(seg)\n",
    "\n",
    "feat1= radiomics_features(img_tensor, seg_tensor)"
   ]
  },
  {
   "cell_type": "code",
   "execution_count": 49,
   "id": "644b51d5",
   "metadata": {},
   "outputs": [
    {
     "name": "stderr",
     "output_type": "stream",
     "text": [
      "GLCM is symmetrical, therefore Sum Average = 2 * Joint Average, only 1 needs to be calculated\n"
     ]
    }
   ],
   "source": [
    "img_path= r\"D:\\vestibularSchwannoma\\AIIMsInfDataset\\ImageNiftis\\GK2214\\vs_gk_0000.nii.gz\"\n",
    "seg_path= r\"D:\\vestibularSchwannoma\\AIIMsInfDataset\\Outputs\\GK2214\\mask.nii.gz\"\n",
    "\n",
    "import nibabel as nib\n",
    "img= nib.load(img_path).get_fdata()\n",
    "seg= nib.load(seg_path).get_fdata()\n",
    "\n",
    "import torch\n",
    "img_tensor= torch.from_numpy(img)\n",
    "seg_tensor= torch.from_numpy(seg)\n",
    "\n",
    "feat2= radiomics_features(img_tensor, seg_tensor)"
   ]
  },
  {
   "cell_type": "code",
   "execution_count": 50,
   "id": "7926af08",
   "metadata": {},
   "outputs": [],
   "source": [
    "def rad_mse(d1, d2):\n",
    "    keys = sorted(d1.keys() & d2.keys())\n",
    "    if not keys:\n",
    "        raise ValueError(\"No overlapping keys.\")\n",
    "    diffsq = []\n",
    "    for k in keys:\n",
    "        try:\n",
    "            v1 = float(d1[k])\n",
    "            v2 = float(d2[k])\n",
    "        except (TypeError, ValueError):\n",
    "            raise TypeError(f\"Non-numeric value at key '{k}': {d1[k]} vs {d2[k]}\")\n",
    "        diffsq.append((v1 - v2) ** 2)\n",
    "    return sum(diffsq) / len(diffsq)"
   ]
  },
  {
   "cell_type": "code",
   "execution_count": 53,
   "id": "3018bcf9",
   "metadata": {},
   "outputs": [
    {
     "data": {
      "text/plain": [
       "0.567623403073246"
      ]
     },
     "execution_count": 53,
     "metadata": {},
     "output_type": "execute_result"
    }
   ],
   "source": [
    "rad_mse(feat1, feat2)"
   ]
  },
  {
   "cell_type": "code",
   "execution_count": 34,
   "id": "3e15aa70",
   "metadata": {},
   "outputs": [
    {
     "data": {
      "text/plain": [
       "{'original_shape_Maximum2DDiameterRow': -0.4514781767875833,\n",
       " 'original_shape_SurfaceArea': -0.4297737611585581,\n",
       " 'original_glszm_LargeAreaHighGrayLevelEmphasis': 2.2359972338080514,\n",
       " 'original_shape_SurfaceVolumeRatio': -0.4517923069844098,\n",
       " 'original_shape_MajorAxisLength': -0.45150645463620925,\n",
       " 'original_shape_Maximum3DDiameter': -0.4514465342412912}"
      ]
     },
     "execution_count": 34,
     "metadata": {},
     "output_type": "execute_result"
    }
   ],
   "source": [
    "import numpy as np\n",
    "\n",
    "def normalize_features_zscore(feat_dict):\n",
    "    values = np.array(list(feat_dict.values()), dtype=float)\n",
    "    mean, std = values.mean(), values.std()\n",
    "    if std == 0:\n",
    "        scaled = np.zeros_like(values)\n",
    "    else:\n",
    "        scaled = (values - mean) / std\n",
    "    return dict(zip(feat_dict.keys(), scaled))\n",
    "\n",
    "normalize_features_zscore(extracted_features2)"
   ]
  },
  {
   "cell_type": "code",
   "execution_count": 52,
   "id": "b97491d2",
   "metadata": {},
   "outputs": [
    {
     "data": {
      "text/plain": [
       "({'original_shape_Maximum2DDiameterRow': 4.128718315151695,\n",
       "  'original_shape_SurfaceArea': 8.356658746107465,\n",
       "  'original_glszm_LargeAreaHighGrayLevelEmphasis': 13.160930287666785,\n",
       "  'original_shape_SurfaceVolumeRatio': 0.3105456619557952,\n",
       "  'original_shape_MajorAxisLength': 4.036556998097391,\n",
       "  'original_shape_Maximum3DDiameter': 4.222680160367696},\n",
       " {'original_shape_Maximum2DDiameterRow': 4.064659747694846,\n",
       "  'original_shape_SurfaceArea': 8.475553043243599,\n",
       "  'original_glszm_LargeAreaHighGrayLevelEmphasis': 14.991990477189312,\n",
       "  'original_shape_SurfaceVolumeRatio': 0.23894551603000155,\n",
       "  'original_shape_MajorAxisLength': 3.968219756250976,\n",
       "  'original_shape_Maximum3DDiameter': 4.064809683997616})"
      ]
     },
     "execution_count": 52,
     "metadata": {},
     "output_type": "execute_result"
    }
   ],
   "source": [
    "feat1, feat2"
   ]
  },
  {
   "cell_type": "code",
   "execution_count": 31,
   "id": "bb4fca7c",
   "metadata": {},
   "outputs": [
    {
     "data": {
      "text/plain": [
       "7416246339169.212"
      ]
     },
     "execution_count": 31,
     "metadata": {},
     "output_type": "execute_result"
    }
   ],
   "source": [
    "(57.245087125446844-61.09828148156051)**2 + (4795.074468531482-4257.442431968991)**2 + (3242937.6816109424-519659.133611691)**2 + (0.26990934499628394-0.3641692863613079)**2 + (51.890289371136184-55.63102603003085)**2 + (57.253820833198546-67.21606950722423)**2"
   ]
  },
  {
   "cell_type": "code",
   "execution_count": 33,
   "id": "606ae1c7",
   "metadata": {},
   "outputs": [
    {
     "data": {
      "text/plain": [
       "1236041056528.202"
      ]
     },
     "execution_count": 33,
     "metadata": {},
     "output_type": "execute_result"
    }
   ],
   "source": [
    "7416246339169.212/6"
   ]
  }
 ],
 "metadata": {
  "kernelspec": {
   "display_name": "GenSeg",
   "language": "python",
   "name": "python3"
  },
  "language_info": {
   "codemirror_mode": {
    "name": "ipython",
    "version": 3
   },
   "file_extension": ".py",
   "mimetype": "text/x-python",
   "name": "python",
   "nbconvert_exporter": "python",
   "pygments_lexer": "ipython3",
   "version": "3.9.23"
  }
 },
 "nbformat": 4,
 "nbformat_minor": 5
}
