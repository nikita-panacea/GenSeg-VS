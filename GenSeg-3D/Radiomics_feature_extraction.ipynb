{
 "cells": [
  {
   "cell_type": "code",
   "execution_count": 2,
   "id": "f966e44c-1a5a-476b-930e-97d1a07c9159",
   "metadata": {},
   "outputs": [
    {
     "name": "stdout",
     "output_type": "stream",
     "text": [
      "Collecting pyradiomics\n",
      "  Downloading pyradiomics-3.1.0-cp39-cp39-win_amd64.whl.metadata (8.3 kB)\n",
      "Requirement already satisfied: numpy in c:\\users\\nikit\\anaconda3\\envs\\genseg\\lib\\site-packages (from pyradiomics) (1.26.0)\n",
      "Requirement already satisfied: SimpleITK in c:\\users\\nikit\\anaconda3\\envs\\genseg\\lib\\site-packages (from pyradiomics) (2.5.2)\n",
      "Collecting PyWavelets (from pyradiomics)\n",
      "  Downloading pywavelets-1.6.0-cp39-cp39-win_amd64.whl.metadata (9.0 kB)\n",
      "Collecting pykwalify (from pyradiomics)\n",
      "  Downloading pykwalify-1.8.0-py2.py3-none-any.whl.metadata (5.3 kB)\n",
      "Requirement already satisfied: six in c:\\users\\nikit\\anaconda3\\envs\\genseg\\lib\\site-packages (from pyradiomics) (1.17.0)\n",
      "Collecting docopt>=0.6.2 (from pykwalify->pyradiomics)\n",
      "  Using cached docopt-0.6.2.tar.gz (25 kB)\n",
      "  Preparing metadata (setup.py): started\n",
      "  Preparing metadata (setup.py): finished with status 'done'\n",
      "Requirement already satisfied: python-dateutil>=2.8.0 in c:\\users\\nikit\\anaconda3\\envs\\genseg\\lib\\site-packages (from pykwalify->pyradiomics) (2.9.0.post0)\n",
      "Collecting ruamel.yaml>=0.16.0 (from pykwalify->pyradiomics)\n",
      "  Downloading ruamel.yaml-0.18.14-py3-none-any.whl.metadata (24 kB)\n",
      "Collecting ruamel.yaml.clib>=0.2.7 (from ruamel.yaml>=0.16.0->pykwalify->pyradiomics)\n",
      "  Downloading ruamel.yaml.clib-0.2.12-cp39-cp39-win_amd64.whl.metadata (2.8 kB)\n",
      "Downloading pyradiomics-3.1.0-cp39-cp39-win_amd64.whl (122 kB)\n",
      "Downloading pykwalify-1.8.0-py2.py3-none-any.whl (24 kB)\n",
      "Downloading ruamel.yaml-0.18.14-py3-none-any.whl (118 kB)\n",
      "Downloading ruamel.yaml.clib-0.2.12-cp39-cp39-win_amd64.whl (118 kB)\n",
      "Downloading pywavelets-1.6.0-cp39-cp39-win_amd64.whl (4.3 MB)\n",
      "   ---------------------------------------- 0.0/4.3 MB ? eta -:--:--\n",
      "   ---------------------------------------- 4.3/4.3 MB 31.9 MB/s eta 0:00:00\n",
      "Building wheels for collected packages: docopt\n",
      "  Building wheel for docopt (setup.py): started\n",
      "  Building wheel for docopt (setup.py): finished with status 'done'\n",
      "  Created wheel for docopt: filename=docopt-0.6.2-py2.py3-none-any.whl size=13856 sha256=946b50baf0db63f3bda0caa6878ec0e488777b055be485112fd40fa849d2fcc3\n",
      "  Stored in directory: c:\\users\\nikit\\appdata\\local\\pip\\cache\\wheels\\70\\4a\\46\\1309fc853b8d395e60bafaf1b6df7845bdd82c95fd59dd8d2b\n",
      "Successfully built docopt\n",
      "Installing collected packages: docopt, ruamel.yaml.clib, PyWavelets, ruamel.yaml, pykwalify, pyradiomics\n",
      "\n",
      "   ------------- -------------------------- 2/6 [PyWavelets]\n",
      "   ------------- -------------------------- 2/6 [PyWavelets]\n",
      "   -------------------- ------------------- 3/6 [ruamel.yaml]\n",
      "   -------------------- ------------------- 3/6 [ruamel.yaml]\n",
      "   --------------------------------- ------ 5/6 [pyradiomics]\n",
      "   ---------------------------------------- 6/6 [pyradiomics]\n",
      "\n",
      "Successfully installed PyWavelets-1.6.0 docopt-0.6.2 pykwalify-1.8.0 pyradiomics-3.1.0 ruamel.yaml-0.18.14 ruamel.yaml.clib-0.2.12\n"
     ]
    },
    {
     "name": "stderr",
     "output_type": "stream",
     "text": [
      "  DEPRECATION: Building 'docopt' using the legacy setup.py bdist_wheel mechanism, which will be removed in a future version. pip 25.3 will enforce this behaviour change. A possible replacement is to use the standardized build interface by setting the `--use-pep517` option, (possibly combined with `--no-build-isolation`), or adding a `pyproject.toml` file to the source tree of 'docopt'. Discussion can be found at https://github.com/pypa/pip/issues/6334\n"
     ]
    }
   ],
   "source": [
    "!python -m pip install pyradiomics"
   ]
  },
  {
   "cell_type": "code",
   "execution_count": 3,
   "id": "ee337b65-4efa-484b-9648-eb5ae823ff0e",
   "metadata": {},
   "outputs": [],
   "source": [
    "from __future__ import annotations\n",
    "\n",
    "import os  # needed navigate the system to get the input data\n",
    "\n",
    "import radiomics\n",
    "from radiomics import (\n",
    "    featureextractor,  # This module is used for interaction with pyradiomics\n",
    ")"
   ]
  },
  {
   "cell_type": "code",
   "execution_count": 9,
   "id": "d50d8044-ac1e-429b-98bf-e55285328c79",
   "metadata": {},
   "outputs": [
    {
     "name": "stdout",
     "output_type": "stream",
     "text": [
      "Parameter file, absolute path: C:\\Users\\nikit\\OneDrive - Panacea InfoSec Pvt. Ltd\\Panacea_Infosec\\GenSeg\\examples\\exampleSettings\\Params.yaml\n"
     ]
    }
   ],
   "source": [
    "# Get the testCase\n",
    "imagePath, maskPath = ('C:/Users/nikit/Downloads/Struct_TUMOR.nii', 'C:/Users/nikit/Downloads/vs_gk_0000.nii')# radiomics.getTestCase('brain1')\n",
    "\n",
    "if imagePath is None or maskPath is None:  # Something went wrong, in this case PyRadiomics will also log an error\n",
    "    msg = 'Error getting testcase!'\n",
    "    raise Exception(msg)  # Raise exception to prevent cells below from running in case of \"run all\"\n",
    "\n",
    "# Additionally, store the location of the example parameter file, stored in \\pyradiomics\\examples/exampleSettings\n",
    "paramPath = os.path.join('..', 'examples', 'exampleSettings', 'Params.yaml')\n",
    "print('Parameter file, absolute path:', os.path.abspath(paramPath))"
   ]
  },
  {
   "cell_type": "code",
   "execution_count": 10,
   "id": "c52556de-adca-44eb-b90f-42fc97c03f26",
   "metadata": {},
   "outputs": [
    {
     "name": "stdout",
     "output_type": "stream",
     "text": [
      "Extraction parameters:\n",
      "\t {'minimumROIDimensions': 2, 'minimumROISize': None, 'normalize': False, 'normalizeScale': 1, 'removeOutliers': None, 'resampledPixelSpacing': None, 'interpolator': 'sitkBSpline', 'preCrop': False, 'padDistance': 5, 'distances': [1], 'force2D': False, 'force2Ddimension': 0, 'resegmentRange': None, 'label': 1, 'additionalInfo': True}\n",
      "Enabled filters:\n",
      "\t {'Original': {}}\n",
      "Enabled features:\n",
      "\t {'firstorder': [], 'glcm': [], 'gldm': [], 'glrlm': [], 'glszm': [], 'ngtdm': [], 'shape': []}\n"
     ]
    }
   ],
   "source": [
    "# Instantiate the extractor\n",
    "extractor = featureextractor.RadiomicsFeatureExtractor()\n",
    "\n",
    "print('Extraction parameters:\\n\\t', extractor.settings)\n",
    "print('Enabled filters:\\n\\t', extractor.enabledImagetypes)\n",
    "print('Enabled features:\\n\\t', extractor.enabledFeatures)"
   ]
  },
  {
   "cell_type": "code",
   "execution_count": 11,
   "id": "9cc01287-dd43-46d3-97f3-27f09966a618",
   "metadata": {},
   "outputs": [
    {
     "name": "stderr",
     "output_type": "stream",
     "text": [
      "GLCM is symmetrical, therefore Sum Average = 2 * Joint Average, only 1 needs to be calculated\n"
     ]
    }
   ],
   "source": [
    "result = extractor.execute(imagePath, maskPath)"
   ]
  },
  {
   "cell_type": "code",
   "execution_count": 12,
   "id": "f7e3b537-10c3-4fd4-8095-3cbac30bc3e8",
   "metadata": {},
   "outputs": [
    {
     "name": "stdout",
     "output_type": "stream",
     "text": [
      "Result type: <class 'collections.OrderedDict'>\n",
      "\n",
      "Calculated features\n",
      "\t diagnostics_Versions_PyRadiomics : v3.1.0\n",
      "\t diagnostics_Versions_Numpy : 1.26.0\n",
      "\t diagnostics_Versions_SimpleITK : 2.5.2\n",
      "\t diagnostics_Versions_PyWavelet : 1.6.0\n",
      "\t diagnostics_Versions_Python : 3.9.0\n",
      "\t diagnostics_Configuration_Settings : {'minimumROIDimensions': 2, 'minimumROISize': None, 'normalize': False, 'normalizeScale': 1, 'removeOutliers': None, 'resampledPixelSpacing': None, 'interpolator': 'sitkBSpline', 'preCrop': False, 'padDistance': 5, 'distances': [1], 'force2D': False, 'force2Ddimension': 0, 'resegmentRange': None, 'label': 1, 'additionalInfo': True}\n",
      "\t diagnostics_Configuration_EnabledImageTypes : {'Original': {}}\n",
      "\t diagnostics_Image-original_Hash : 7de22fa74a68b4af818b9ddbefe2f55a1707d455\n",
      "\t diagnostics_Image-original_Dimensionality : 3D\n",
      "\t diagnostics_Image-original_Spacing : (0.46875, 0.46875, 0.8999999761581421)\n",
      "\t diagnostics_Image-original_Size : (512, 512, 88)\n",
      "\t diagnostics_Image-original_Mean : 0.0007853507995605469\n",
      "\t diagnostics_Image-original_Minimum : 0.0\n",
      "\t diagnostics_Image-original_Maximum : 1.0\n",
      "\t diagnostics_Mask-original_Hash : c588caa48ddc6eab8aa1e0498c36509967a78dd0\n",
      "\t diagnostics_Mask-original_Spacing : (0.46875, 0.46875, 0.8999999761581421)\n",
      "\t diagnostics_Mask-original_Size : (512, 512, 88)\n",
      "\t diagnostics_Mask-original_BoundingBox : (1, 0, 0, 511, 512, 88)\n",
      "\t diagnostics_Mask-original_VoxelNum : 43947\n",
      "\t diagnostics_Mask-original_VolumeNum : 41316\n",
      "\t diagnostics_Mask-original_CenterOfMassIndex : (267.3440280337679, 239.81065829294377, 42.850956834368674)\n",
      "\t diagnostics_Mask-original_CenterOfMass : (5.584152850301365, -48.903161273815414, -48.76281418712087)\n",
      "\t original_shape_Elongation : 0.9026428133803228\n",
      "\t original_shape_Flatness : 0.2646352089569827\n",
      "\t original_shape_LeastAxisLength : 91.71587030485428\n",
      "\t original_shape_MajorAxisLength : 346.57470812873953\n",
      "\t original_shape_Maximum2DDiameterColumn : 250.90896642192502\n",
      "\t original_shape_Maximum2DDiameterRow : 250.64249328076778\n",
      "\t original_shape_Maximum2DDiameterSlice : 336.7602570124999\n",
      "\t original_shape_Maximum3DDiameter : 344.77808763643355\n",
      "\t original_shape_MeshVolume : 1024.9914279251243\n",
      "\t original_shape_MinorAxisLength : 312.83316959178967\n",
      "\t original_shape_Sphericity : 0.017258294874358343\n",
      "\t original_shape_SurfaceArea : 28486.104404213416\n",
      "\t original_shape_SurfaceVolumeRatio : 27.791553790725292\n",
      "\t original_shape_VoxelVolume : 8690.690687744063\n",
      "\t original_firstorder_10Percentile : 0.0\n",
      "\t original_firstorder_90Percentile : 0.0\n",
      "\t original_firstorder_Energy : 0.0\n",
      "\t original_firstorder_Entropy : -3.203426503814917e-16\n",
      "\t original_firstorder_InterquartileRange : 0.0\n",
      "\t original_firstorder_Kurtosis : 0.0\n",
      "\t original_firstorder_Maximum : 0.0\n",
      "\t original_firstorder_MeanAbsoluteDeviation : 0.0\n",
      "\t original_firstorder_Mean : 0.0\n",
      "\t original_firstorder_Median : 0.0\n",
      "\t original_firstorder_Minimum : 0.0\n",
      "\t original_firstorder_Range : 0.0\n",
      "\t original_firstorder_RobustMeanAbsoluteDeviation : 0.0\n",
      "\t original_firstorder_RootMeanSquared : 0.0\n",
      "\t original_firstorder_Skewness : 0.0\n",
      "\t original_firstorder_TotalEnergy : 0.0\n",
      "\t original_firstorder_Uniformity : 1.0\n",
      "\t original_firstorder_Variance : 0.0\n",
      "\t original_glcm_Autocorrelation : 1.0\n",
      "\t original_glcm_ClusterProminence : 0.0\n",
      "\t original_glcm_ClusterShade : 0.0\n",
      "\t original_glcm_ClusterTendency : 0.0\n",
      "\t original_glcm_Contrast : 0.0\n",
      "\t original_glcm_Correlation : 1.0\n",
      "\t original_glcm_DifferenceAverage : 0.0\n",
      "\t original_glcm_DifferenceEntropy : -3.2034265038149176e-16\n",
      "\t original_glcm_DifferenceVariance : 0.0\n",
      "\t original_glcm_Id : 1.0\n",
      "\t original_glcm_Idm : 1.0\n",
      "\t original_glcm_Idmn : 1.0\n",
      "\t original_glcm_Idn : 1.0\n",
      "\t original_glcm_Imc1 : 0.0\n",
      "\t original_glcm_Imc2 : 0.0\n",
      "\t original_glcm_InverseVariance : 0.0\n",
      "\t original_glcm_JointAverage : 1.0\n",
      "\t original_glcm_JointEnergy : 1.0\n",
      "\t original_glcm_JointEntropy : -3.2034265038149176e-16\n",
      "\t original_glcm_MCC : 1\n",
      "\t original_glcm_MaximumProbability : 1.0\n",
      "\t original_glcm_SumAverage : 2.0\n",
      "\t original_glcm_SumEntropy : -3.2034265038149176e-16\n",
      "\t original_glcm_SumSquares : 0.0\n",
      "\t original_gldm_DependenceEntropy : 0.5599028693296391\n",
      "\t original_gldm_DependenceNonUniformity : 34993.573235943295\n",
      "\t original_gldm_DependenceNonUniformityNormalized : 0.7962676231811795\n",
      "\t original_gldm_DependenceVariance : 0.12834920152013576\n",
      "\t original_gldm_GrayLevelNonUniformity : 43947.0\n",
      "\t original_gldm_GrayLevelVariance : 0.0\n",
      "\t original_gldm_HighGrayLevelEmphasis : 1.0\n",
      "\t original_gldm_LargeDependenceEmphasis : 1.3904248299087538\n",
      "\t original_gldm_LargeDependenceHighGrayLevelEmphasis : 1.3904248299087538\n",
      "\t original_gldm_LargeDependenceLowGrayLevelEmphasis : 1.3904248299087538\n",
      "\t original_gldm_LowGrayLevelEmphasis : 1.0\n",
      "\t original_gldm_SmallDependenceEmphasis : 0.9133082589381654\n",
      "\t original_gldm_SmallDependenceHighGrayLevelEmphasis : 0.9133082589381654\n",
      "\t original_gldm_SmallDependenceLowGrayLevelEmphasis : 0.9133082589381654\n",
      "\t original_glrlm_GrayLevelNonUniformity : 43738.38461538462\n",
      "\t original_glrlm_GrayLevelNonUniformityNormalized : 1.0\n",
      "\t original_glrlm_GrayLevelVariance : 0.0\n",
      "\t original_glrlm_HighGrayLevelRunEmphasis : 1.0\n",
      "\t original_glrlm_LongRunEmphasis : 1.01452687069804\n",
      "\t original_glrlm_LongRunHighGrayLevelEmphasis : 1.01452687069804\n",
      "\t original_glrlm_LongRunLowGrayLevelEmphasis : 1.01452687069804\n",
      "\t original_glrlm_LowGrayLevelRunEmphasis : 1.0\n",
      "\t original_glrlm_RunEntropy : 0.04283519428437757\n",
      "\t original_glrlm_RunLengthNonUniformity : 43331.36324417036\n",
      "\t original_glrlm_RunLengthNonUniformityNormalized : 0.9906818742965626\n",
      "\t original_glrlm_RunPercentage : 0.995253023309546\n",
      "\t original_glrlm_RunVariance : 0.00494469239822653\n",
      "\t original_glrlm_ShortRunEmphasis : 0.9964735420364996\n",
      "\t original_glrlm_ShortRunHighGrayLevelEmphasis : 0.9964735420364996\n",
      "\t original_glrlm_ShortRunLowGrayLevelEmphasis : 0.9964735420364996\n",
      "\t original_glszm_GrayLevelNonUniformity : 41316.0\n",
      "\t original_glszm_GrayLevelNonUniformityNormalized : 1.0\n",
      "\t original_glszm_GrayLevelVariance : 0.0\n",
      "\t original_glszm_HighGrayLevelZoneEmphasis : 1.0\n",
      "\t original_glszm_LargeAreaEmphasis : 1.2052715654952078\n",
      "\t original_glszm_LargeAreaHighGrayLevelEmphasis : 1.2052715654952078\n",
      "\t original_glszm_LargeAreaLowGrayLevelEmphasis : 1.2052715654952078\n",
      "\t original_glszm_LowGrayLevelZoneEmphasis : 1.0\n",
      "\t original_glszm_SizeZoneNonUniformity : 36816.90865524252\n",
      "\t original_glszm_SizeZoneNonUniformityNormalized : 0.8911053503544032\n",
      "\t original_glszm_SmallAreaEmphasis : 0.9561094168522284\n",
      "\t original_glszm_SmallAreaHighGrayLevelEmphasis : 0.9561094168522284\n",
      "\t original_glszm_SmallAreaLowGrayLevelEmphasis : 0.9561094168522284\n",
      "\t original_glszm_ZoneEntropy : 0.3465672492118288\n",
      "\t original_glszm_ZonePercentage : 0.940132432247935\n",
      "\t original_glszm_ZoneVariance : 0.07385657138634424\n",
      "\t original_ngtdm_Busyness : 0.0\n",
      "\t original_ngtdm_Coarseness : 1000000.0\n",
      "\t original_ngtdm_Complexity : 0.0\n",
      "\t original_ngtdm_Contrast : 0.0\n",
      "\t original_ngtdm_Strength : 0.0\n"
     ]
    }
   ],
   "source": [
    "print('Result type:', type(result))  # result is returned in a Python ordered dictionary)\n",
    "print('')\n",
    "print('Calculated features')\n",
    "for key, value in result.items():\n",
    "    print('\\t', key, ':', value)"
   ]
  },
  {
   "cell_type": "code",
   "execution_count": null,
   "id": "4ce1e8b4-8c57-4a17-a3d3-f4608cc2814e",
   "metadata": {},
   "outputs": [],
   "source": []
  }
 ],
 "metadata": {
  "kernelspec": {
   "display_name": "Python [conda env:GenSeg]",
   "language": "python",
   "name": "conda-env-GenSeg-py"
  },
  "language_info": {
   "codemirror_mode": {
    "name": "ipython",
    "version": 3
   },
   "file_extension": ".py",
   "mimetype": "text/x-python",
   "name": "python",
   "nbconvert_exporter": "python",
   "pygments_lexer": "ipython3",
   "version": "3.9.0"
  }
 },
 "nbformat": 4,
 "nbformat_minor": 5
}
