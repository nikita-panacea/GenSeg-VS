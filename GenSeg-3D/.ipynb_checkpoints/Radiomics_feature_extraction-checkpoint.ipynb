{
 "cells": [
  {
   "cell_type": "code",
   "execution_count": 2,
   "id": "f966e44c-1a5a-476b-930e-97d1a07c9159",
   "metadata": {},
   "outputs": [
    {
     "name": "stdout",
     "output_type": "stream",
     "text": [
      "Collecting pyradiomics\n",
      "  Downloading pyradiomics-3.1.0-cp39-cp39-win_amd64.whl.metadata (8.3 kB)\n",
      "Requirement already satisfied: numpy in c:\\users\\nikit\\anaconda3\\envs\\genseg\\lib\\site-packages (from pyradiomics) (1.26.0)\n",
      "Requirement already satisfied: SimpleITK in c:\\users\\nikit\\anaconda3\\envs\\genseg\\lib\\site-packages (from pyradiomics) (2.5.2)\n",
      "Collecting PyWavelets (from pyradiomics)\n",
      "  Downloading pywavelets-1.6.0-cp39-cp39-win_amd64.whl.metadata (9.0 kB)\n",
      "Collecting pykwalify (from pyradiomics)\n",
      "  Downloading pykwalify-1.8.0-py2.py3-none-any.whl.metadata (5.3 kB)\n",
      "Requirement already satisfied: six in c:\\users\\nikit\\anaconda3\\envs\\genseg\\lib\\site-packages (from pyradiomics) (1.17.0)\n",
      "Collecting docopt>=0.6.2 (from pykwalify->pyradiomics)\n",
      "  Using cached docopt-0.6.2.tar.gz (25 kB)\n",
      "  Preparing metadata (setup.py): started\n",
      "  Preparing metadata (setup.py): finished with status 'done'\n",
      "Requirement already satisfied: python-dateutil>=2.8.0 in c:\\users\\nikit\\anaconda3\\envs\\genseg\\lib\\site-packages (from pykwalify->pyradiomics) (2.9.0.post0)\n",
      "Collecting ruamel.yaml>=0.16.0 (from pykwalify->pyradiomics)\n",
      "  Downloading ruamel.yaml-0.18.14-py3-none-any.whl.metadata (24 kB)\n",
      "Collecting ruamel.yaml.clib>=0.2.7 (from ruamel.yaml>=0.16.0->pykwalify->pyradiomics)\n",
      "  Downloading ruamel.yaml.clib-0.2.12-cp39-cp39-win_amd64.whl.metadata (2.8 kB)\n",
      "Downloading pyradiomics-3.1.0-cp39-cp39-win_amd64.whl (122 kB)\n",
      "Downloading pykwalify-1.8.0-py2.py3-none-any.whl (24 kB)\n",
      "Downloading ruamel.yaml-0.18.14-py3-none-any.whl (118 kB)\n",
      "Downloading ruamel.yaml.clib-0.2.12-cp39-cp39-win_amd64.whl (118 kB)\n",
      "Downloading pywavelets-1.6.0-cp39-cp39-win_amd64.whl (4.3 MB)\n",
      "   ---------------------------------------- 0.0/4.3 MB ? eta -:--:--\n",
      "   ---------------------------------------- 4.3/4.3 MB 31.9 MB/s eta 0:00:00\n",
      "Building wheels for collected packages: docopt\n",
      "  Building wheel for docopt (setup.py): started\n",
      "  Building wheel for docopt (setup.py): finished with status 'done'\n",
      "  Created wheel for docopt: filename=docopt-0.6.2-py2.py3-none-any.whl size=13856 sha256=946b50baf0db63f3bda0caa6878ec0e488777b055be485112fd40fa849d2fcc3\n",
      "  Stored in directory: c:\\users\\nikit\\appdata\\local\\pip\\cache\\wheels\\70\\4a\\46\\1309fc853b8d395e60bafaf1b6df7845bdd82c95fd59dd8d2b\n",
      "Successfully built docopt\n",
      "Installing collected packages: docopt, ruamel.yaml.clib, PyWavelets, ruamel.yaml, pykwalify, pyradiomics\n",
      "\n",
      "   ------------- -------------------------- 2/6 [PyWavelets]\n",
      "   ------------- -------------------------- 2/6 [PyWavelets]\n",
      "   -------------------- ------------------- 3/6 [ruamel.yaml]\n",
      "   -------------------- ------------------- 3/6 [ruamel.yaml]\n",
      "   --------------------------------- ------ 5/6 [pyradiomics]\n",
      "   ---------------------------------------- 6/6 [pyradiomics]\n",
      "\n",
      "Successfully installed PyWavelets-1.6.0 docopt-0.6.2 pykwalify-1.8.0 pyradiomics-3.1.0 ruamel.yaml-0.18.14 ruamel.yaml.clib-0.2.12\n"
     ]
    },
    {
     "name": "stderr",
     "output_type": "stream",
     "text": [
      "  DEPRECATION: Building 'docopt' using the legacy setup.py bdist_wheel mechanism, which will be removed in a future version. pip 25.3 will enforce this behaviour change. A possible replacement is to use the standardized build interface by setting the `--use-pep517` option, (possibly combined with `--no-build-isolation`), or adding a `pyproject.toml` file to the source tree of 'docopt'. Discussion can be found at https://github.com/pypa/pip/issues/6334\n"
     ]
    }
   ],
   "source": [
    "!python -m pip install pyradiomics"
   ]
  },
  {
   "cell_type": "code",
   "execution_count": 3,
   "id": "ee337b65-4efa-484b-9648-eb5ae823ff0e",
   "metadata": {},
   "outputs": [],
   "source": [
    "from __future__ import annotations\n",
    "\n",
    "import os  # needed navigate the system to get the input data\n",
    "\n",
    "import radiomics\n",
    "from radiomics import (\n",
    "    featureextractor,  # This module is used for interaction with pyradiomics\n",
    ")"
   ]
  },
  {
   "cell_type": "code",
   "execution_count": 4,
   "id": "d50d8044-ac1e-429b-98bf-e55285328c79",
   "metadata": {},
   "outputs": [
    {
     "name": "stdout",
     "output_type": "stream",
     "text": [
      "Parameter file, absolute path: C:\\Users\\nikit\\OneDrive - Panacea InfoSec Pvt. Ltd\\Panacea_Infosec\\GenSeg\\examples\\exampleSettings\\Params.yaml\n"
     ]
    }
   ],
   "source": [
    "# Get the testCase\n",
    "imagePath, maskPath = ('C:\\Users\\nikit\\Downloads\\Struct_TUMOR.nii', 'C:\\Users\\nikit\\Downloads\\vs_gk_0000.nii')# radiomics.getTestCase('brain1')\n",
    "\n",
    "if imagePath is None or maskPath is None:  # Something went wrong, in this case PyRadiomics will also log an error\n",
    "    msg = 'Error getting testcase!'\n",
    "    raise Exception(msg)  # Raise exception to prevent cells below from running in case of \"run all\"\n",
    "\n",
    "# Additionally, store the location of the example parameter file, stored in \\pyradiomics\\examples/exampleSettings\n",
    "paramPath = os.path.join('..', 'examples', 'exampleSettings', 'Params.yaml')\n",
    "print('Parameter file, absolute path:', os.path.abspath(paramPath))"
   ]
  },
  {
   "cell_type": "code",
   "execution_count": 5,
   "id": "c52556de-adca-44eb-b90f-42fc97c03f26",
   "metadata": {},
   "outputs": [
    {
     "name": "stdout",
     "output_type": "stream",
     "text": [
      "Extraction parameters:\n",
      "\t {'minimumROIDimensions': 2, 'minimumROISize': None, 'normalize': False, 'normalizeScale': 1, 'removeOutliers': None, 'resampledPixelSpacing': None, 'interpolator': 'sitkBSpline', 'preCrop': False, 'padDistance': 5, 'distances': [1], 'force2D': False, 'force2Ddimension': 0, 'resegmentRange': None, 'label': 1, 'additionalInfo': True}\n",
      "Enabled filters:\n",
      "\t {'Original': {}}\n",
      "Enabled features:\n",
      "\t {'firstorder': [], 'glcm': [], 'gldm': [], 'glrlm': [], 'glszm': [], 'ngtdm': [], 'shape': []}\n"
     ]
    }
   ],
   "source": [
    "# Instantiate the extractor\n",
    "extractor = featureextractor.RadiomicsFeatureExtractor()\n",
    "\n",
    "print('Extraction parameters:\\n\\t', extractor.settings)\n",
    "print('Enabled filters:\\n\\t', extractor.enabledImagetypes)\n",
    "print('Enabled features:\\n\\t', extractor.enabledFeatures)"
   ]
  },
  {
   "cell_type": "code",
   "execution_count": 6,
   "id": "9cc01287-dd43-46d3-97f3-27f09966a618",
   "metadata": {},
   "outputs": [
    {
     "name": "stderr",
     "output_type": "stream",
     "text": [
      "GLCM is symmetrical, therefore Sum Average = 2 * Joint Average, only 1 needs to be calculated\n"
     ]
    }
   ],
   "source": [
    "result = extractor.execute(imagePath, maskPath)"
   ]
  },
  {
   "cell_type": "code",
   "execution_count": 7,
   "id": "f7e3b537-10c3-4fd4-8095-3cbac30bc3e8",
   "metadata": {},
   "outputs": [
    {
     "name": "stdout",
     "output_type": "stream",
     "text": [
      "Result type: <class 'collections.OrderedDict'>\n",
      "\n",
      "Calculated features\n",
      "\t diagnostics_Versions_PyRadiomics : v3.1.0\n",
      "\t diagnostics_Versions_Numpy : 1.26.0\n",
      "\t diagnostics_Versions_SimpleITK : 2.5.2\n",
      "\t diagnostics_Versions_PyWavelet : 1.6.0\n",
      "\t diagnostics_Versions_Python : 3.9.0\n",
      "\t diagnostics_Configuration_Settings : {'minimumROIDimensions': 2, 'minimumROISize': None, 'normalize': False, 'normalizeScale': 1, 'removeOutliers': None, 'resampledPixelSpacing': None, 'interpolator': 'sitkBSpline', 'preCrop': False, 'padDistance': 5, 'distances': [1], 'force2D': False, 'force2Ddimension': 0, 'resegmentRange': None, 'label': 1, 'additionalInfo': True}\n",
      "\t diagnostics_Configuration_EnabledImageTypes : {'Original': {}}\n",
      "\t diagnostics_Image-original_Hash : 5c9ce3ca174f0f8324aa4d277e0fef82dc5ac566\n",
      "\t diagnostics_Image-original_Dimensionality : 3D\n",
      "\t diagnostics_Image-original_Spacing : (0.7812499999999999, 0.7812499999999999, 6.499999999999998)\n",
      "\t diagnostics_Image-original_Size : (256, 256, 25)\n",
      "\t diagnostics_Image-original_Mean : 385.6564080810547\n",
      "\t diagnostics_Image-original_Minimum : 0.0\n",
      "\t diagnostics_Image-original_Maximum : 3057.0\n",
      "\t diagnostics_Mask-original_Hash : 9dc2c3137b31fd872997d92c9a92d5178126d9d3\n",
      "\t diagnostics_Mask-original_Spacing : (0.7812499999999999, 0.7812499999999999, 6.499999999999998)\n",
      "\t diagnostics_Mask-original_Size : (256, 256, 25)\n",
      "\t diagnostics_Mask-original_BoundingBox : (162, 84, 11, 47, 70, 7)\n",
      "\t diagnostics_Mask-original_VoxelNum : 4137\n",
      "\t diagnostics_Mask-original_VolumeNum : 2\n",
      "\t diagnostics_Mask-original_CenterOfMassIndex : (186.98549673676578, 106.3562968334542, 14.38917089678511)\n",
      "\t diagnostics_Mask-original_CenterOfMass : (46.47304432559825, 16.518518098863908, 15.529610829103234)\n",
      "\t original_shape_Elongation : 0.5621171627174115\n",
      "\t original_shape_Flatness : 0.46105975346582606\n",
      "\t original_shape_LeastAxisLength : 28.584423185376455\n",
      "\t original_shape_MajorAxisLength : 61.99722046980868\n",
      "\t original_shape_Maximum2DDiameterColumn : 49.490854979101925\n",
      "\t original_shape_Maximum2DDiameterRow : 65.88905951721043\n",
      "\t original_shape_Maximum2DDiameterSlice : 53.59397776919529\n",
      "\t original_shape_Maximum3DDiameter : 69.60099030590368\n",
      "\t original_shape_MeshVolume : 16147.51180013021\n",
      "\t original_shape_MinorAxisLength : 34.849701666854685\n",
      "\t original_shape_Sphericity : 0.4798234536231475\n",
      "\t original_shape_SurfaceArea : 6438.821603779402\n",
      "\t original_shape_SurfaceVolumeRatio : 0.3987500788652454\n",
      "\t original_shape_VoxelVolume : 16412.658691406243\n",
      "\t original_firstorder_10Percentile : 632.0\n",
      "\t original_firstorder_90Percentile : 1044.4\n",
      "\t original_firstorder_Energy : 2918821481.0\n",
      "\t original_firstorder_Entropy : 4.601935553903786\n",
      "\t original_firstorder_InterquartileRange : 253.0\n",
      "\t original_firstorder_Kurtosis : 2.1807729393860265\n",
      "\t original_firstorder_Maximum : 1266.0\n",
      "\t original_firstorder_MeanAbsoluteDeviation : 133.44726195252767\n",
      "\t original_firstorder_Mean : 825.2354363065023\n",
      "\t original_firstorder_Median : 812.0\n",
      "\t original_firstorder_Minimum : 468.0\n",
      "\t original_firstorder_Range : 798.0\n",
      "\t original_firstorder_RobustMeanAbsoluteDeviation : 103.00138343026683\n",
      "\t original_firstorder_RootMeanSquared : 839.9646448180755\n",
      "\t original_firstorder_Skewness : 0.27565085908587594\n",
      "\t original_firstorder_TotalEnergy : 11579797135.314934\n",
      "\t original_firstorder_Uniformity : 0.045156963555862184\n",
      "\t original_firstorder_Variance : 24527.07920837261\n",
      "\t original_glcm_Autocorrelation : 289.5436994017259\n",
      "\t original_glcm_ClusterProminence : 27995.937591943148\n",
      "\t original_glcm_ClusterShade : 19.605083427286676\n",
      "\t original_glcm_ClusterTendency : 108.73139325453903\n",
      "\t original_glcm_Contrast : 47.492125114429776\n",
      "\t original_glcm_Correlation : 0.3917522006696661\n",
      "\t original_glcm_DifferenceAverage : 5.284468789866316\n",
      "\t original_glcm_DifferenceEntropy : 3.74406097806642\n",
      "\t original_glcm_DifferenceVariance : 16.65563705027098\n",
      "\t original_glcm_Id : 0.28722572382985156\n",
      "\t original_glcm_Idm : 0.20022255640475703\n",
      "\t original_glcm_Idmn : 0.961402169623227\n",
      "\t original_glcm_Idn : 0.8726052157397169\n",
      "\t original_glcm_Imc1 : -0.09438938808738298\n",
      "\t original_glcm_Imc2 : 0.6942249020670357\n",
      "\t original_glcm_InverseVariance : 0.19881884197093194\n",
      "\t original_glcm_JointAverage : 16.55380772442751\n",
      "\t original_glcm_JointEnergy : 0.002893149242988865\n",
      "\t original_glcm_JointEntropy : 8.799696270248813\n",
      "\t original_glcm_MCC : 0.4990404679585558\n",
      "\t original_glcm_MaximumProbability : 0.007352392266290182\n",
      "\t original_glcm_SumAverage : 33.10761544885502\n",
      "\t original_glcm_SumEntropy : 5.354241321485615\n",
      "\t original_glcm_SumSquares : 39.05587959224222\n",
      "\t original_gldm_DependenceEntropy : 6.885019899269458\n",
      "\t original_gldm_DependenceNonUniformity : 936.6601401982113\n",
      "\t original_gldm_DependenceNonUniformityNormalized : 0.22641047623838803\n",
      "\t original_gldm_DependenceVariance : 2.1619872286911965\n",
      "\t original_gldm_GrayLevelNonUniformity : 186.8143582306019\n",
      "\t original_gldm_GrayLevelVariance : 39.19271419906397\n",
      "\t original_gldm_HighGrayLevelEmphasis : 280.4065748126662\n",
      "\t original_gldm_LargeDependenceEmphasis : 8.661590524534686\n",
      "\t original_gldm_LargeDependenceHighGrayLevelEmphasis : 2335.0519700265895\n",
      "\t original_gldm_LargeDependenceLowGrayLevelEmphasis : 0.07650590736710827\n",
      "\t original_gldm_LowGrayLevelEmphasis : 0.00860027409479837\n",
      "\t original_gldm_SmallDependenceEmphasis : 0.37960167130711403\n",
      "\t original_gldm_SmallDependenceHighGrayLevelEmphasis : 110.30563945728201\n",
      "\t original_gldm_SmallDependenceLowGrayLevelEmphasis : 0.0035453562622343696\n",
      "\t original_glrlm_GrayLevelNonUniformity : 175.6351923150419\n",
      "\t original_glrlm_GrayLevelNonUniformityNormalized : 0.04514123814981055\n",
      "\t original_glrlm_GrayLevelVariance : 39.118151021979244\n",
      "\t original_glrlm_HighGrayLevelRunEmphasis : 281.066493908972\n",
      "\t original_glrlm_LongRunEmphasis : 1.2268440382584342\n",
      "\t original_glrlm_LongRunHighGrayLevelEmphasis : 341.2865790983503\n",
      "\t original_glrlm_LongRunLowGrayLevelEmphasis : 0.010601170478748765\n",
      "\t original_glrlm_LowGrayLevelRunEmphasis : 0.008600397891661503\n",
      "\t original_glrlm_RunEntropy : 4.915038003159503\n",
      "\t original_glrlm_RunLengthNonUniformity : 3500.0432315746298\n",
      "\t original_glrlm_RunLengthNonUniformityNormalized : 0.8950494659480998\n",
      "\t original_glrlm_RunPercentage : 0.9404064632491029\n",
      "\t original_glrlm_RunVariance : 0.08479457789590625\n",
      "\t original_glrlm_ShortRunEmphasis : 0.9559391731405504\n",
      "\t original_glrlm_ShortRunHighGrayLevelEmphasis : 268.9741798411307\n",
      "\t original_glrlm_ShortRunLowGrayLevelEmphasis : 0.008229766244155428\n",
      "\t original_glszm_GrayLevelNonUniformity : 82.38716577540107\n",
      "\t original_glszm_GrayLevelNonUniformityNormalized : 0.044057307901283996\n",
      "\t original_glszm_GrayLevelVariance : 40.60313992393263\n",
      "\t original_glszm_HighGrayLevelZoneEmphasis : 288.6235294117647\n",
      "\t original_glszm_LargeAreaEmphasis : 13.615508021390374\n",
      "\t original_glszm_LargeAreaHighGrayLevelEmphasis : 3514.7614973262034\n",
      "\t original_glszm_LargeAreaLowGrayLevelEmphasis : 0.12723841553344326\n",
      "\t original_glszm_LowGrayLevelZoneEmphasis : 0.009100942027706215\n",
      "\t original_glszm_SizeZoneNonUniformity : 747.5967914438503\n",
      "\t original_glszm_SizeZoneNonUniformityNormalized : 0.3997843804512568\n",
      "\t original_glszm_SmallAreaEmphasis : 0.6564478999587141\n",
      "\t original_glszm_SmallAreaHighGrayLevelEmphasis : 193.438051925864\n",
      "\t original_glszm_SmallAreaLowGrayLevelEmphasis : 0.006416982055097711\n",
      "\t original_glszm_ZoneEntropy : 6.5082149861981895\n",
      "\t original_glszm_ZonePercentage : 0.4520183708000967\n",
      "\t original_glszm_ZoneVariance : 8.721239097486347\n",
      "\t original_ngtdm_Busyness : 1.4467306835644076\n",
      "\t original_ngtdm_Coarseness : 0.001712035271356631\n",
      "\t original_ngtdm_Complexity : 1439.5127782445836\n",
      "\t original_ngtdm_Contrast : 0.24786529128414\n",
      "\t original_ngtdm_Strength : 0.6307314827348611\n"
     ]
    }
   ],
   "source": [
    "print('Result type:', type(result))  # result is returned in a Python ordered dictionary)\n",
    "print('')\n",
    "print('Calculated features')\n",
    "for key, value in result.items():\n",
    "    print('\\t', key, ':', value)"
   ]
  },
  {
   "cell_type": "code",
   "execution_count": null,
   "id": "4ce1e8b4-8c57-4a17-a3d3-f4608cc2814e",
   "metadata": {},
   "outputs": [],
   "source": []
  }
 ],
 "metadata": {
  "kernelspec": {
   "display_name": "Python [conda env:GenSeg]",
   "language": "python",
   "name": "conda-env-GenSeg-py"
  },
  "language_info": {
   "codemirror_mode": {
    "name": "ipython",
    "version": 3
   },
   "file_extension": ".py",
   "mimetype": "text/x-python",
   "name": "python",
   "nbconvert_exporter": "python",
   "pygments_lexer": "ipython3",
   "version": "3.9.0"
  }
 },
 "nbformat": 4,
 "nbformat_minor": 5
}
