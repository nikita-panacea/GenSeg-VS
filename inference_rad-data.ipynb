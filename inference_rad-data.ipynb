{
 "cells": [
  {
   "cell_type": "code",
   "execution_count": 7,
   "id": "06e1eec6-f5a2-44c5-89d7-ffcdfbedd966",
   "metadata": {},
   "outputs": [],
   "source": [
    "# opt = TestOptions().parse()\n",
    "device = torch.device('cuda' if torch.cuda.is_available() else 'cpu')\n",
    "net = UNet(n_channels=1, n_classes=6)"
   ]
  },
  {
   "cell_type": "code",
   "execution_count": 5,
   "id": "7a4f1867-f03f-4d23-a0b3-c2ed5b623edc",
   "metadata": {},
   "outputs": [],
   "source": [
    "import torch\n",
    "from torch.utils.data import DataLoader\n",
    "from unet import UNet\n",
    "from options.test_options import TestOptions"
   ]
  },
  {
   "cell_type": "code",
   "execution_count": 12,
   "id": "8af69511-d3c8-4d35-b974-1bcd03422fc8",
   "metadata": {},
   "outputs": [
    {
     "data": {
      "text/plain": [
       "<All keys matched successfully>"
      ]
     },
     "execution_count": 12,
     "metadata": {},
     "output_type": "execute_result"
    }
   ],
   "source": [
    "\n",
    "net.load_state_dict(torch.load(\"/home/omen/Documents/Nikita/GenSeg/checkpoint_bhsd/20250721-162837-bhsd/unet.pth\",  map_location=device))"
   ]
  },
  {
   "cell_type": "code",
   "execution_count": 11,
   "id": "a7d57fdb-db7d-4d63-85af-9d9b272991c1",
   "metadata": {},
   "outputs": [
    {
     "data": {
      "text/plain": [
       "['unet.pth']"
      ]
     },
     "execution_count": 11,
     "metadata": {},
     "output_type": "execute_result"
    }
   ],
   "source": [
    "import os\n",
    "os.listdir(\"/home/omen/Documents/Nikita/GenSeg/checkpoint_bhsd/20250721-162837-bhsd/unet.pth\")"
   ]
  },
  {
   "cell_type": "code",
   "execution_count": 9,
   "id": "633dd373-0a19-4cc2-8678-52360eea2540",
   "metadata": {},
   "outputs": [
    {
     "data": {
      "text/plain": [
       "'/home/omen/Documents/Nikita/GenSeg'"
      ]
     },
     "execution_count": 9,
     "metadata": {},
     "output_type": "execute_result"
    }
   ],
   "source": []
  },
  {
   "cell_type": "code",
   "execution_count": null,
   "id": "24a5cd39-2350-4700-ae0b-5819ce86ee9c",
   "metadata": {},
   "outputs": [],
   "source": []
  }
 ],
 "metadata": {
  "kernelspec": {
   "display_name": "Python 3 (ipykernel)",
   "language": "python",
   "name": "python3"
  },
  "language_info": {
   "codemirror_mode": {
    "name": "ipython",
    "version": 3
   },
   "file_extension": ".py",
   "mimetype": "text/x-python",
   "name": "python",
   "nbconvert_exporter": "python",
   "pygments_lexer": "ipython3",
   "version": "3.9.0"
  }
 },
 "nbformat": 4,
 "nbformat_minor": 5
}
